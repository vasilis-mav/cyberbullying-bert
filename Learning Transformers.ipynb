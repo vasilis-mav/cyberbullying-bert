{
 "cells": [
  {
   "cell_type": "markdown",
   "id": "ad69c904",
   "metadata": {},
   "source": [
    "# BoW Implementation"
   ]
  },
  {
   "cell_type": "code",
   "execution_count": 1,
   "id": "18b0863b",
   "metadata": {},
   "outputs": [
    {
     "name": "stdout",
     "output_type": "stream",
     "text": [
      "The vocabulary size is:  10 \n",
      "The document-term matrix shape is: (3, 10)\n"
     ]
    }
   ],
   "source": [
    "from sklearn.feature_extraction.text import TfidfVectorizer \n",
    "import numpy as np\n",
    "import pandas as pd\n",
    "toy_corpus= [\"the fat cat sat on the mat\", \"the big cat slept\",\n",
    "             \"the dog chased a cat\"]\n",
    "vectorizer=TfidfVectorizer() \n",
    "corpus_tfidf=vectorizer.fit_transform(toy_corpus)\n",
    "print(f\"The vocabulary size is:  {len(vectorizer.vocabulary_.keys())} \")\n",
    "print(f\"The document-term matrix shape is: {corpus_tfidf.shape}\")\n",
    "df=pd.DataFrame(np.round(corpus_tfidf.toarray(),2))\n",
    "df.columns=vectorizer.get_feature_names()"
   ]
  },
  {
   "cell_type": "markdown",
   "id": "e40d7fb9",
   "metadata": {},
   "source": [
    "# SVM Pipeline"
   ]
  },
  {
   "cell_type": "code",
   "execution_count": 2,
   "id": "ead362a5",
   "metadata": {},
   "outputs": [
    {
     "data": {
      "text/plain": [
       "SVC()"
      ]
     },
     "execution_count": 2,
     "metadata": {},
     "output_type": "execute_result"
    }
   ],
   "source": [
    "from sklearn.pipeline import make_pipeline\n",
    "from sklearn.svm import SVC\n",
    "labels= [0,1,0]\n",
    "clf = SVC()\n",
    "clf.fit(df.to_numpy(), labels)"
   ]
  },
  {
   "cell_type": "code",
   "execution_count": 3,
   "id": "20354d04",
   "metadata": {},
   "outputs": [
    {
     "data": {
      "text/plain": [
       "array([0, 1, 0])"
      ]
     },
     "execution_count": 3,
     "metadata": {},
     "output_type": "execute_result"
    }
   ],
   "source": [
    "clf.predict(df.to_numpy())"
   ]
  },
  {
   "cell_type": "markdown",
   "id": "57ee7551",
   "metadata": {},
   "source": [
    "# Maximum Likelihood Estimator (MLE) with  Natural Language Toolkit (NLTK)"
   ]
  },
  {
   "cell_type": "code",
   "execution_count": 4,
   "id": "92091cea",
   "metadata": {},
   "outputs": [
    {
     "name": "stderr",
     "output_type": "stream",
     "text": [
      "[nltk_data] Downloading package gutenberg to\n",
      "[nltk_data]     C:\\Users\\Vasilis\\AppData\\Roaming\\nltk_data...\n",
      "[nltk_data]   Package gutenberg is already up-to-date!\n",
      "[nltk_data] Downloading package punkt to\n",
      "[nltk_data]     C:\\Users\\Vasilis\\AppData\\Roaming\\nltk_data...\n",
      "[nltk_data]   Package punkt is already up-to-date!\n"
     ]
    },
    {
     "name": "stdout",
     "output_type": "stream",
     "text": [
      "['<s>', '[', 'The', 'Tragedie', 'of', 'Macbeth', 'by', 'William', 'Shakespeare', '1603']\n",
      "The number of words is 4020\n"
     ]
    }
   ],
   "source": [
    "import nltk\n",
    "from nltk.corpus import gutenberg\n",
    "from nltk.lm import MLE\n",
    "from nltk.lm.preprocessing import padded_everygram_pipeline\n",
    "nltk.download('gutenberg')\n",
    "nltk.download('punkt')\n",
    "macbeth = gutenberg.sents('shakespeare-macbeth.txt')\n",
    "model, vocab = padded_everygram_pipeline(2, macbeth)\n",
    "lm=MLE(2)\n",
    "lm.fit(model,vocab)\n",
    "print(list(lm.vocab)[:10])\n",
    "print(f\"The number of words is {len(lm.vocab)}\")"
   ]
  },
  {
   "cell_type": "code",
   "execution_count": 5,
   "id": "608b5f16",
   "metadata": {},
   "outputs": [
    {
     "name": "stdout",
     "output_type": "stream",
     "text": [
      "The frequency of the term 'Macbeth' is 61\n",
      "The language model probability score of 'Macbeth' is 0.0022631149365585812\n",
      "The number of times 'Macbeth' follows 'Enter' is 15 \n",
      "P(Macbeth | Enter) is 0.1875\n",
      "P(shaking | for) is 0.012195121951219513\n"
     ]
    }
   ],
   "source": [
    "print(f\"The frequency of the term 'Macbeth' is {lm.counts['Macbeth']}\")\n",
    "print(f\"The language model probability score of 'Macbeth' is {lm.score('Macbeth')}\")\n",
    "print(f\"The number of times 'Macbeth' follows 'Enter' is {lm.counts[['Enter']]['Macbeth']} \")\n",
    "print(f\"P(Macbeth | Enter) is {lm.score('Macbeth',['Enter'])}\")\n",
    "print(f\"P(shaking | for) is {lm.score('shaking', ['for'])}\")"
   ]
  },
  {
   "cell_type": "markdown",
   "id": "8a9aa3fa",
   "metadata": {},
   "source": [
    "# Word2vec model"
   ]
  },
  {
   "cell_type": "code",
   "execution_count": 6,
   "id": "ca85d9de",
   "metadata": {},
   "outputs": [],
   "source": [
    "from gensim.test.utils import common_texts"
   ]
  },
  {
   "cell_type": "code",
   "execution_count": 7,
   "id": "03b6c049",
   "metadata": {},
   "outputs": [
    {
     "ename": "ImportError",
     "evalue": "cannot import name 'Word2vec' from 'gensim.models' (C:\\Users\\Vasilis\\AppData\\Roaming\\Python\\Python38\\site-packages\\gensim\\models\\__init__.py)",
     "output_type": "error",
     "traceback": [
      "\u001b[1;31m---------------------------------------------------------------------------\u001b[0m",
      "\u001b[1;31mImportError\u001b[0m                               Traceback (most recent call last)",
      "\u001b[1;32m<ipython-input-7-ac5f9a1d3e05>\u001b[0m in \u001b[0;36m<module>\u001b[1;34m\u001b[0m\n\u001b[1;32m----> 1\u001b[1;33m \u001b[1;32mfrom\u001b[0m \u001b[0mgensim\u001b[0m\u001b[1;33m.\u001b[0m\u001b[0mmodels\u001b[0m \u001b[1;32mimport\u001b[0m \u001b[0mWord2vec\u001b[0m\u001b[1;33m\u001b[0m\u001b[1;33m\u001b[0m\u001b[0m\n\u001b[0m\u001b[0;32m      2\u001b[0m \u001b[0mmodel\u001b[0m \u001b[1;33m=\u001b[0m \u001b[0mWord2vec\u001b[0m\u001b[1;33m(\u001b[0m\u001b[0msentences\u001b[0m\u001b[1;33m=\u001b[0m\u001b[0mmacbeth\u001b[0m\u001b[1;33m,\u001b[0m \u001b[0msize\u001b[0m\u001b[1;33m=\u001b[0m\u001b[1;36m100\u001b[0m\u001b[1;33m,\u001b[0m \u001b[0mwindow\u001b[0m\u001b[1;33m=\u001b[0m \u001b[1;36m4\u001b[0m\u001b[1;33m,\u001b[0m\u001b[0mmin_count\u001b[0m\u001b[1;33m=\u001b[0m\u001b[1;36m10\u001b[0m\u001b[1;33m,\u001b[0m \u001b[0mworkers\u001b[0m\u001b[1;33m=\u001b[0m\u001b[1;36m4\u001b[0m\u001b[1;33m,\u001b[0m \u001b[0miter\u001b[0m\u001b[1;33m=\u001b[0m\u001b[1;36m10\u001b[0m\u001b[1;33m)\u001b[0m\u001b[1;33m\u001b[0m\u001b[1;33m\u001b[0m\u001b[0m\n",
      "\u001b[1;31mImportError\u001b[0m: cannot import name 'Word2vec' from 'gensim.models' (C:\\Users\\Vasilis\\AppData\\Roaming\\Python\\Python38\\site-packages\\gensim\\models\\__init__.py)"
     ]
    }
   ],
   "source": [
    "from gensim.models import Word2vec\n",
    "model = Word2vec(sentences=macbeth, size=100, window= 4,min_count=10, workers=4, iter=10)"
   ]
  },
  {
   "cell_type": "code",
   "execution_count": null,
   "id": "ad7d9c31",
   "metadata": {},
   "outputs": [],
   "source": [
    "import matplotlib.pyplot as plt\n",
    "from sklearn.decomposition import PCA\n",
    "import random\n",
    "np.random.seed(42)\n",
    "words=list([e for e in model.wv.vocab if len(e)>4]) \n",
    "random.shuffle(words)\n",
    "words3d = PCA(n_components=3,random_state=42).fit_transform(model.wv[words[:100]])\n",
    "def plotWords3D(vecs, words, title):\n",
    " ...\n",
    "plotWords3D(words3d, words, \"Visualizing Word2vec Word Embeddings using PCA\")"
   ]
  },
  {
   "cell_type": "code",
   "execution_count": 9,
   "id": "85755c97",
   "metadata": {},
   "outputs": [
    {
     "ename": "SyntaxError",
     "evalue": "invalid syntax (<ipython-input-9-0ef3f1eee100>, line 1)",
     "output_type": "error",
     "traceback": [
      "\u001b[1;36m  File \u001b[1;32m\"<ipython-input-9-0ef3f1eee100>\"\u001b[1;36m, line \u001b[1;32m1\u001b[0m\n\u001b[1;33m    wget https://dl.fbaipublicfiles.com/glue/data/SST-2.zip\u001b[0m\n\u001b[1;37m         ^\u001b[0m\n\u001b[1;31mSyntaxError\u001b[0m\u001b[1;31m:\u001b[0m invalid syntax\n"
     ]
    }
   ],
   "source": [
    "wget https://dl.fbaipublicfiles.com/glue/data/SST-2.zip"
   ]
  },
  {
   "cell_type": "code",
   "execution_count": null,
   "id": "8cba65c6",
   "metadata": {},
   "outputs": [],
   "source": []
  }
 ],
 "metadata": {
  "kernelspec": {
   "display_name": "Python 3",
   "language": "python",
   "name": "python3"
  },
  "language_info": {
   "codemirror_mode": {
    "name": "ipython",
    "version": 3
   },
   "file_extension": ".py",
   "mimetype": "text/x-python",
   "name": "python",
   "nbconvert_exporter": "python",
   "pygments_lexer": "ipython3",
   "version": "3.8.8"
  }
 },
 "nbformat": 4,
 "nbformat_minor": 5
}
